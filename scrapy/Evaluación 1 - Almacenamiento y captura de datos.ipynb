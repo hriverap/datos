{
 "cells": [
  {
   "cell_type": "markdown",
   "metadata": {},
   "source": [
    "# Evaluación Almacenamiento y Captura de datos"
   ]
  },
  {
   "cell_type": "markdown",
   "metadata": {},
   "source": [
    "### Prof. Claudio Aracena"
   ]
  },
  {
   "cell_type": "markdown",
   "metadata": {},
   "source": [
    "**1. Haga un proceso de web scraping para el sitio web ​https://www.pcfactory.cl/​. Para ello realice las siguientes tareas:**\n",
    "* a. Extraer todos los nombres, marcas y precios de los productos bajo la categoría de notebooks. (3 puntos)\n",
    "* b. Crear un dataframe con la información extraída. (1 punto)\n",
    "* c. Crea una base de datos con la información del dataframe. (1 punto)\n",
    "* d. Realizar la consulta SQL que entregue el precio promedio agrupado por\n",
    "marca. (1 punto)"
   ]
  },
  {
   "cell_type": "code",
   "execution_count": null,
   "metadata": {},
   "outputs": [],
   "source": []
  }
 ],
 "metadata": {
  "kernelspec": {
   "display_name": "Python 3",
   "language": "python",
   "name": "python3"
  },
  "language_info": {
   "codemirror_mode": {
    "name": "ipython",
    "version": 3
   },
   "file_extension": ".py",
   "mimetype": "text/x-python",
   "name": "python",
   "nbconvert_exporter": "python",
   "pygments_lexer": "ipython3",
   "version": "3.6.4"
  }
 },
 "nbformat": 4,
 "nbformat_minor": 2
}
