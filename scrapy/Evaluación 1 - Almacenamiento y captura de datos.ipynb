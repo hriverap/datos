{
 "cells": [
  {
   "cell_type": "markdown",
   "metadata": {},
   "source": [
    "# Evaluación Almacenamiento y Captura de datos"
   ]
  },
  {
   "cell_type": "markdown",
   "metadata": {},
   "source": [
    "### Prof. Claudio Aracena"
   ]
  },
  {
   "cell_type": "markdown",
   "metadata": {},
   "source": [
    "**1. Haga un proceso de web scraping para el sitio web ​https://www.pcfactory.cl/​. Para ello realice las siguientes tareas:**\n",
    "* a. Extraer todos los nombres, marcas y precios de los productos bajo la categoría de notebooks. (3 puntos)\n",
    "* b. Crear un dataframe con la información extraída. (1 punto)\n",
    "* c. Crea una base de datos con la información del dataframe. (1 punto)\n",
    "* d. Realizar la consulta SQL que entregue el precio promedio agrupado por\n",
    "marca. (1 punto)"
   ]
  },
  {
   "cell_type": "code",
   "execution_count": 1,
   "metadata": {},
   "outputs": [],
   "source": [
    "import requests\n",
    "import pandas as pd\n",
    "import sqlite3\n",
    "\n",
    "from sqlalchemy import create_engine\n",
    "from bs4 import BeautifulSoup"
   ]
  },
  {
   "cell_type": "markdown",
   "metadata": {},
   "source": [
    "* Se extraen los datos basicos:"
   ]
  },
  {
   "cell_type": "code",
   "execution_count": 2,
   "metadata": {},
   "outputs": [
    {
     "name": "stdout",
     "output_type": "stream",
     "text": [
      "Nro de páginas: 3\n"
     ]
    }
   ],
   "source": [
    "req = requests.get(\"https://www.pcfactory.cl/notebooks?categoria=735&papa=636\")\n",
    "\n",
    "res = BeautifulSoup(req.text,\"html5lib\")\n",
    "\n",
    "nropags = res.find('span', {'id': 'pag_ter2'}).text\n",
    "\n",
    "print(\"Nro de páginas:\", nropags)"
   ]
  },
  {
   "cell_type": "markdown",
   "metadata": {},
   "source": [
    "* Se itera sobre las n paginas"
   ]
  },
  {
   "cell_type": "code",
   "execution_count": 3,
   "metadata": {},
   "outputs": [],
   "source": [
    "base = []\n",
    "\n",
    "for n in range(int(nropags)):\n",
    "    req = requests.get(\"https://www.pcfactory.cl/notebooks?categoria=735&papa=636&pagina=\" + str(n + 1))\n",
    "\n",
    "    res = BeautifulSoup(req.text,\"html5lib\")\n",
    "\n",
    "    notebooks = res.find_all('div', {'class': 'wrap-caluga-matrix'})\n",
    "\n",
    "    for n in notebooks:\n",
    "        marca = n.find('span', {'class': 'marca'}).text\n",
    "        nombre = n.find('span', {'class': 'nombre'}).text\n",
    "        precio = n.find('meta', {'itemprop': 'price'})['content']\n",
    "\n",
    "        base.append({\"Marca\": marca, \"Nombre\": nombre, \"Precio\": int(float(precio))})     "
   ]
  },
  {
   "cell_type": "markdown",
   "metadata": {},
   "source": [
    "* Se crea Dataframe con la informacion extraida"
   ]
  },
  {
   "cell_type": "code",
   "execution_count": 4,
   "metadata": {},
   "outputs": [],
   "source": [
    "df = pd.DataFrame(base)"
   ]
  },
  {
   "cell_type": "code",
   "execution_count": 5,
   "metadata": {},
   "outputs": [
    {
     "data": {
      "text/html": [
       "<div>\n",
       "<style scoped>\n",
       "    .dataframe tbody tr th:only-of-type {\n",
       "        vertical-align: middle;\n",
       "    }\n",
       "\n",
       "    .dataframe tbody tr th {\n",
       "        vertical-align: top;\n",
       "    }\n",
       "\n",
       "    .dataframe thead th {\n",
       "        text-align: right;\n",
       "    }\n",
       "</style>\n",
       "<table border=\"1\" class=\"dataframe\">\n",
       "  <thead>\n",
       "    <tr style=\"text-align: right;\">\n",
       "      <th></th>\n",
       "      <th>Marca</th>\n",
       "      <th>Nombre</th>\n",
       "      <th>Precio</th>\n",
       "    </tr>\n",
       "  </thead>\n",
       "  <tbody>\n",
       "    <tr>\n",
       "      <th>0</th>\n",
       "      <td>HP  ®</td>\n",
       "      <td>Notebook 245 G6 14\" HD AMD E2-9000e 4GB 500GB ...</td>\n",
       "      <td>174590</td>\n",
       "    </tr>\n",
       "    <tr>\n",
       "      <th>1</th>\n",
       "      <td>HP  ®</td>\n",
       "      <td>Notebook 240 G6 14\" HD Celeron N3060 4GB 500GB...</td>\n",
       "      <td>184290</td>\n",
       "    </tr>\n",
       "    <tr>\n",
       "      <th>2</th>\n",
       "      <td>Acer  ®</td>\n",
       "      <td>Notebook Aspire 3 14\" HD Intel Celeron N3350 4...</td>\n",
       "      <td>189990</td>\n",
       "    </tr>\n",
       "    <tr>\n",
       "      <th>3</th>\n",
       "      <td>Asus  ®</td>\n",
       "      <td>Notebook X540MA-GQ070T Intel® Celeron® N4000 4...</td>\n",
       "      <td>189990</td>\n",
       "    </tr>\n",
       "    <tr>\n",
       "      <th>4</th>\n",
       "      <td>HP  ®</td>\n",
       "      <td>Notebook 245 G6 14\" HD AMD E2-9000e 4GB 500GB ...</td>\n",
       "      <td>209990</td>\n",
       "    </tr>\n",
       "  </tbody>\n",
       "</table>\n",
       "</div>"
      ],
      "text/plain": [
       "      Marca                                             Nombre  Precio\n",
       "0    HP  ®   Notebook 245 G6 14\" HD AMD E2-9000e 4GB 500GB ...  174590\n",
       "1    HP  ®   Notebook 240 G6 14\" HD Celeron N3060 4GB 500GB...  184290\n",
       "2  Acer  ®   Notebook Aspire 3 14\" HD Intel Celeron N3350 4...  189990\n",
       "3  Asus  ®   Notebook X540MA-GQ070T Intel® Celeron® N4000 4...  189990\n",
       "4    HP  ®   Notebook 245 G6 14\" HD AMD E2-9000e 4GB 500GB ...  209990"
      ]
     },
     "execution_count": 5,
     "metadata": {},
     "output_type": "execute_result"
    }
   ],
   "source": [
    "df.head()"
   ]
  },
  {
   "cell_type": "markdown",
   "metadata": {},
   "source": [
    "* Se crea una base de datos"
   ]
  },
  {
   "cell_type": "code",
   "execution_count": 6,
   "metadata": {},
   "outputs": [],
   "source": [
    "sql_engine = create_engine('sqlite:///data/dbnotebooks.db', echo=False)\n",
    "connection = sql_engine.raw_connection()"
   ]
  },
  {
   "cell_type": "markdown",
   "metadata": {},
   "source": [
    "* Insertamos los datos desde el dataframe"
   ]
  },
  {
   "cell_type": "code",
   "execution_count": 7,
   "metadata": {},
   "outputs": [],
   "source": [
    "df.to_sql('tb_names', connection, index=False, if_exists='replace')"
   ]
  },
  {
   "cell_type": "code",
   "execution_count": 8,
   "metadata": {},
   "outputs": [],
   "source": [
    "connection.close()"
   ]
  },
  {
   "cell_type": "markdown",
   "metadata": {},
   "source": [
    "* Consultamos la base de datos"
   ]
  },
  {
   "cell_type": "code",
   "execution_count": 9,
   "metadata": {},
   "outputs": [],
   "source": [
    "conn = sqlite3.connect(\"data/dbnotebooks.db\")"
   ]
  },
  {
   "cell_type": "code",
   "execution_count": 10,
   "metadata": {},
   "outputs": [
    {
     "data": {
      "text/html": [
       "<div>\n",
       "<style scoped>\n",
       "    .dataframe tbody tr th:only-of-type {\n",
       "        vertical-align: middle;\n",
       "    }\n",
       "\n",
       "    .dataframe tbody tr th {\n",
       "        vertical-align: top;\n",
       "    }\n",
       "\n",
       "    .dataframe thead th {\n",
       "        text-align: right;\n",
       "    }\n",
       "</style>\n",
       "<table border=\"1\" class=\"dataframe\">\n",
       "  <thead>\n",
       "    <tr style=\"text-align: right;\">\n",
       "      <th></th>\n",
       "      <th>Marca</th>\n",
       "      <th>round(avg(Precio), 0)</th>\n",
       "    </tr>\n",
       "  </thead>\n",
       "  <tbody>\n",
       "    <tr>\n",
       "      <th>0</th>\n",
       "      <td>Acer  ®</td>\n",
       "      <td>401328.0</td>\n",
       "    </tr>\n",
       "    <tr>\n",
       "      <th>1</th>\n",
       "      <td>Apple  ®</td>\n",
       "      <td>925323.0</td>\n",
       "    </tr>\n",
       "    <tr>\n",
       "      <th>2</th>\n",
       "      <td>Asus  ®</td>\n",
       "      <td>1044099.0</td>\n",
       "    </tr>\n",
       "    <tr>\n",
       "      <th>3</th>\n",
       "      <td>Dell  ®</td>\n",
       "      <td>1042532.0</td>\n",
       "    </tr>\n",
       "    <tr>\n",
       "      <th>4</th>\n",
       "      <td>Gear  ®</td>\n",
       "      <td>2089990.0</td>\n",
       "    </tr>\n",
       "    <tr>\n",
       "      <th>5</th>\n",
       "      <td>HP  ®</td>\n",
       "      <td>484681.0</td>\n",
       "    </tr>\n",
       "    <tr>\n",
       "      <th>6</th>\n",
       "      <td>Huawei  ®</td>\n",
       "      <td>999990.0</td>\n",
       "    </tr>\n",
       "    <tr>\n",
       "      <th>7</th>\n",
       "      <td>Lenovo  ®</td>\n",
       "      <td>627432.0</td>\n",
       "    </tr>\n",
       "    <tr>\n",
       "      <th>8</th>\n",
       "      <td>MSI  ®</td>\n",
       "      <td>1082140.0</td>\n",
       "    </tr>\n",
       "    <tr>\n",
       "      <th>9</th>\n",
       "      <td>Samsung  ®</td>\n",
       "      <td>950590.0</td>\n",
       "    </tr>\n",
       "  </tbody>\n",
       "</table>\n",
       "</div>"
      ],
      "text/plain": [
       "         Marca  round(avg(Precio), 0)\n",
       "0     Acer  ®                401328.0\n",
       "1    Apple  ®                925323.0\n",
       "2     Asus  ®               1044099.0\n",
       "3     Dell  ®               1042532.0\n",
       "4     Gear  ®               2089990.0\n",
       "5       HP  ®                484681.0\n",
       "6   Huawei  ®                999990.0\n",
       "7   Lenovo  ®                627432.0\n",
       "8      MSI  ®               1082140.0\n",
       "9  Samsung  ®                950590.0"
      ]
     },
     "execution_count": 10,
     "metadata": {},
     "output_type": "execute_result"
    }
   ],
   "source": [
    "pd.read_sql(\"SELECT Marca, round(avg(Precio), 0) FROM tb_names group by Marca\", conn)"
   ]
  },
  {
   "cell_type": "code",
   "execution_count": 11,
   "metadata": {},
   "outputs": [],
   "source": [
    "conn.close()"
   ]
  },
  {
   "cell_type": "code",
   "execution_count": null,
   "metadata": {},
   "outputs": [],
   "source": []
  }
 ],
 "metadata": {
  "kernelspec": {
   "display_name": "Python 3",
   "language": "python",
   "name": "python3"
  },
  "language_info": {
   "codemirror_mode": {
    "name": "ipython",
    "version": 3
   },
   "file_extension": ".py",
   "mimetype": "text/x-python",
   "name": "python",
   "nbconvert_exporter": "python",
   "pygments_lexer": "ipython3",
   "version": "3.6.4"
  }
 },
 "nbformat": 4,
 "nbformat_minor": 2
}
