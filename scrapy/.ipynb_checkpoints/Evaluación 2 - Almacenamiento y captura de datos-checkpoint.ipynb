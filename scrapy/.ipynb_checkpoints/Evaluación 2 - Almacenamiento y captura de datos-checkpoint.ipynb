{
 "cells": [
  {
   "cell_type": "markdown",
   "metadata": {},
   "source": [
    "# Evaluación Almacenamiento y Captura de datos"
   ]
  },
  {
   "cell_type": "markdown",
   "metadata": {},
   "source": [
    "### Prof. Claudio Aracena"
   ]
  },
  {
   "cell_type": "markdown",
   "metadata": {},
   "source": [
    "** 2. Utilizando la herramienta Selenium, haga un proceso de web scraping para el sitio web ​https://es.wikipedia.org​. Para ello realice las siguientes tareas: **\n",
    "\n",
    "* a. Utilizar selenium para emular un navegador y cargar la página deseada. (1 punto)\n",
    "* b. Ingresar en el input de búsqueda el string “paises por superficie” y presionar enter. (0,5 puntos)\n",
    "* c. Esperar por la página de resultados. (0,5 puntos)\n",
    "* d. Extraer la lista de países y territorios con su superficie desde la página de\n",
    "resultados (no incluir Planeta Tierra, Océanos y Tierras emergidas). (2\n",
    "puntos)\n",
    "* e. Cerrar el navegador. (0,5 puntos)\n",
    "* f. Convertir la lista de países y territorios con su superficie en un dataframe.\n",
    "(0,5 puntos)\n",
    "* g. Calcular la suma, el conteo y el promedio de superficies utilizando pandas. (1\n",
    "punto)"
   ]
  },
  {
   "cell_type": "code",
   "execution_count": null,
   "metadata": {},
   "outputs": [],
   "source": []
  }
 ],
 "metadata": {
  "kernelspec": {
   "display_name": "Python 3",
   "language": "python",
   "name": "python3"
  },
  "language_info": {
   "codemirror_mode": {
    "name": "ipython",
    "version": 3
   },
   "file_extension": ".py",
   "mimetype": "text/x-python",
   "name": "python",
   "nbconvert_exporter": "python",
   "pygments_lexer": "ipython3",
   "version": "3.6.4"
  }
 },
 "nbformat": 4,
 "nbformat_minor": 2
}
